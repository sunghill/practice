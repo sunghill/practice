{
  "nbformat": 4,
  "nbformat_minor": 0,
  "metadata": {
    "colab": {
      "provenance": []
    },
    "kernelspec": {
      "name": "python3",
      "display_name": "Python 3"
    }
  },
  "cells": [
    {
      "cell_type": "markdown",
      "metadata": {
        "id": "RwJVVbdI4Hi-"
      },
      "source": [
        "# Deep Learning - Basics\n",
        "\n",
        "Example of a neural network (deep learning) which makes use of the Python Keras library (as an interface to Tensorflow) to learn to classify hand-written digits."
      ]
    },
    {
      "cell_type": "markdown",
      "metadata": {
        "id": "3DS9HY0j4rOI"
      },
      "source": [
        "#Required Modules"
      ]
    },
    {
      "cell_type": "code",
      "metadata": {
        "id": "95LwzpII3_gj"
      },
      "source": [
        "# keras\n",
        "\n",
        "import keras\n",
        "\n",
        "# MNIST dataset\n",
        "\n",
        "from keras.datasets import mnist\n",
        "\n",
        "# models and layers - to tell how many neurons in a layer\n",
        "\n",
        "from keras import models\n",
        "from keras import layers"
      ],
      "execution_count": null,
      "outputs": []
    },
    {
      "cell_type": "code",
      "metadata": {
        "id": "1MV-BZpf408r",
        "outputId": "b5a614bd-2ef6-45bc-c771-d08b59f373cf",
        "colab": {
          "base_uri": "https://localhost:8080/",
          "height": 34
        }
      },
      "source": [
        "#keras version\n",
        "keras.__version__"
      ],
      "execution_count": null,
      "outputs": [
        {
          "output_type": "execute_result",
          "data": {
            "text/plain": [
              "'2.2.5'"
            ]
          },
          "metadata": {
            "tags": []
          },
          "execution_count": 120
        }
      ]
    },
    {
      "cell_type": "markdown",
      "metadata": {
        "id": "xjTclYH18B3a"
      },
      "source": [
        "#Dataset MNIST: Handwritten digits\n",
        "\n",
        "- Already split into train and test: features(simply the pictures) and the label (e.g. 0, 5, etc., classified by humans)\n",
        "- Size of each picture is 28 x 28 pixels\n",
        "- Picture encoded in form of NumPy Array"
      ]
    },
    {
      "cell_type": "code",
      "metadata": {
        "id": "eT-9ahmQ5GoZ"
      },
      "source": [
        "(train_images, train_labels), (test_images,test_labels) = mnist.load_data()"
      ],
      "execution_count": null,
      "outputs": []
    },
    {
      "cell_type": "markdown",
      "metadata": {
        "id": "Bmzkfz3R_XYO"
      },
      "source": [
        "#Data Understanding"
      ]
    },
    {
      "cell_type": "code",
      "metadata": {
        "id": "btZ7-y_X-hQp",
        "outputId": "1127154f-9678-41ba-f69d-ac25f1d424c7",
        "colab": {
          "base_uri": "https://localhost:8080/",
          "height": 34
        }
      },
      "source": [
        "#object class of e.g. train_images\n",
        "\n",
        " type(train_images)"
      ],
      "execution_count": null,
      "outputs": [
        {
          "output_type": "execute_result",
          "data": {
            "text/plain": [
              "numpy.ndarray"
            ]
          },
          "metadata": {
            "tags": []
          },
          "execution_count": 122
        }
      ]
    },
    {
      "cell_type": "code",
      "metadata": {
        "id": "uryj-SS7_hzq",
        "outputId": "49781197-e502-4d46-dfeb-16e02ac32041",
        "colab": {
          "base_uri": "https://localhost:8080/",
          "height": 34
        }
      },
      "source": [
        "# Shape (dimensions, how many rows, how many columns)?\n",
        "train_images.ndim"
      ],
      "execution_count": null,
      "outputs": [
        {
          "output_type": "execute_result",
          "data": {
            "text/plain": [
              "3"
            ]
          },
          "metadata": {
            "tags": []
          },
          "execution_count": 123
        }
      ]
    },
    {
      "cell_type": "code",
      "metadata": {
        "id": "jenWrw3Y_sRV",
        "outputId": "d6b7d12f-428e-482a-9495-cfac54b8d519",
        "colab": {
          "base_uri": "https://localhost:8080/",
          "height": 34
        }
      },
      "source": [
        "#How many pictures in train images\n",
        "\n",
        "train_images.shape\n",
        "#We have 60000 2-d arrays"
      ],
      "execution_count": null,
      "outputs": [
        {
          "output_type": "execute_result",
          "data": {
            "text/plain": [
              "(60000, 28, 28)"
            ]
          },
          "metadata": {
            "tags": []
          },
          "execution_count": 124
        }
      ]
    },
    {
      "cell_type": "code",
      "metadata": {
        "id": "zCBCNx5Q_0C-",
        "outputId": "942d1048-f14a-4f86-97b7-e15aef981b59",
        "colab": {
          "base_uri": "https://localhost:8080/",
          "height": 34
        }
      },
      "source": [
        "#Labels: Check the labels vector\n",
        "len(train_labels)"
      ],
      "execution_count": null,
      "outputs": [
        {
          "output_type": "execute_result",
          "data": {
            "text/plain": [
              "60000"
            ]
          },
          "metadata": {
            "tags": []
          },
          "execution_count": 125
        }
      ]
    },
    {
      "cell_type": "code",
      "metadata": {
        "id": "P_C8RG4RAvji",
        "outputId": "fc949cf8-024b-4602-bfc4-9c17605eb10b",
        "colab": {
          "base_uri": "https://localhost:8080/",
          "height": 34
        }
      },
      "source": [
        "import numpy as np\n",
        "np.unique(train_labels)"
      ],
      "execution_count": null,
      "outputs": [
        {
          "output_type": "execute_result",
          "data": {
            "text/plain": [
              "array([0, 1, 2, 3, 4, 5, 6, 7, 8, 9], dtype=uint8)"
            ]
          },
          "metadata": {
            "tags": []
          },
          "execution_count": 126
        }
      ]
    },
    {
      "cell_type": "markdown",
      "metadata": {
        "id": "huOaI5MBCU6i"
      },
      "source": [
        "## Workflow\n",
        "1. Specify the model: Specify the Layers\n",
        "2. Train the model(Learning process)\n",
        "3. Predict cases"
      ]
    },
    {
      "cell_type": "markdown",
      "metadata": {
        "id": "W08AIAPsCuxI"
      },
      "source": [
        "## Layers\n",
        "\n",
        "- We have to add Layers (=hidden units), Layers consist of Neurons\n",
        "- Several layers: Like a data distillation process"
      ]
    },
    {
      "cell_type": "code",
      "metadata": {
        "id": "EauKzV1kA4H5"
      },
      "source": [
        "#Already performed in the first cell\n",
        "#from keras import models\n",
        "#from keras import layers\n",
        "\n",
        "network = models.Sequential()\n",
        "network.add(layers.Dense(30, activation='relu', input_shape=(28*28,)))\n",
        "#network.add(layers.Dense(40, activation='relu'))\n",
        "network.add(layers.Dense(10, activation = 'softmax'))"
      ],
      "execution_count": null,
      "outputs": []
    },
    {
      "cell_type": "markdown",
      "metadata": {
        "id": "HV9VyXrKT0Yv"
      },
      "source": [
        "A sequence of two Dense Layers (densely connected, fully-connected)\n",
        "- Second layer is a 10-neurons layer: it will return an array of 10 probablity, summing 1"
      ]
    },
    {
      "cell_type": "code",
      "metadata": {
        "id": "nZP5Ty9LEH5C",
        "outputId": "3a243f83-a8a4-4e1b-9c3c-40f7b3b4b017",
        "colab": {
          "base_uri": "https://localhost:8080/",
          "height": 218
        }
      },
      "source": [
        "network.summary()"
      ],
      "execution_count": null,
      "outputs": [
        {
          "output_type": "stream",
          "text": [
            "Model: \"sequential_14\"\n",
            "_________________________________________________________________\n",
            "Layer (type)                 Output Shape              Param #   \n",
            "=================================================================\n",
            "dense_27 (Dense)             (None, 30)                23550     \n",
            "_________________________________________________________________\n",
            "dense_28 (Dense)             (None, 10)                310       \n",
            "=================================================================\n",
            "Total params: 23,860\n",
            "Trainable params: 23,860\n",
            "Non-trainable params: 0\n",
            "_________________________________________________________________\n"
          ],
          "name": "stdout"
        }
      ]
    },
    {
      "cell_type": "markdown",
      "metadata": {
        "id": "AERgUDrbVpc8"
      },
      "source": [
        "#Initializing step(2):\n",
        "- **Loss function**: `categorical_crossentropy` (We have to minimize this one)\n",
        "- **Optimizer**: `rmsprop`\n",
        "- **Metrics**: Parameter to monitor: `accuracy`\n",
        "\n"
      ]
    },
    {
      "cell_type": "code",
      "metadata": {
        "id": "FSIZqCvKTaIK"
      },
      "source": [
        "network.compile(optimizer='rmsprop',\n",
        "                loss='categorical_crossentropy',\n",
        "                metrics = ['accuracy'])"
      ],
      "execution_count": null,
      "outputs": []
    },
    {
      "cell_type": "markdown",
      "metadata": {
        "id": "_5kt6xmCYVUd"
      },
      "source": [
        "## Data Preprocessing\n",
        "\n",
        "- Reshape the input: we want to use a vector (of each picture) instead of 2-d arrary\n",
        "- We have to scale values into range [0,1]"
      ]
    },
    {
      "cell_type": "code",
      "metadata": {
        "id": "u-5YwBC9XoKm"
      },
      "source": [
        "#convert 2-d array into 1-d vector\n",
        "train_images = train_images.reshape((60000,28*28))\n",
        "\n",
        "#Rescale into 0 to 1\n",
        "train_images = train_images.astype('float32')/255\n",
        "#e.g. if a pixel has value 255, it will become 1 after transformation"
      ],
      "execution_count": null,
      "outputs": []
    },
    {
      "cell_type": "code",
      "metadata": {
        "id": "OG8oiHvTaSyY"
      },
      "source": [
        "# Do it for test images\n",
        "\n",
        "test_images = test_images.reshape((10000, 28*28))\n",
        "test_images = test_images.astype('float32')/255"
      ],
      "execution_count": null,
      "outputs": []
    },
    {
      "cell_type": "code",
      "metadata": {
        "id": "DF5Btv3ibWY9",
        "outputId": "436cce8b-688e-40fd-8cba-b2c9185df4b7",
        "colab": {
          "base_uri": "https://localhost:8080/",
          "height": 34
        }
      },
      "source": [
        "test_images.shape[0]"
      ],
      "execution_count": null,
      "outputs": [
        {
          "output_type": "execute_result",
          "data": {
            "text/plain": [
              "10000"
            ]
          },
          "metadata": {
            "tags": []
          },
          "execution_count": 132
        }
      ]
    },
    {
      "cell_type": "code",
      "metadata": {
        "id": "Q_nK8ZzTa07W"
      },
      "source": [
        "## Change target variable (aka label)\n",
        "#Create dummy variables\n",
        "\n",
        "from keras.utils import to_categorical\n",
        "\n",
        "train_labels = to_categorical(train_labels)\n",
        "test_labels = to_categorical(test_labels)"
      ],
      "execution_count": null,
      "outputs": []
    },
    {
      "cell_type": "code",
      "metadata": {
        "id": "GNMeTl-xb-ZY",
        "outputId": "535f87d4-0a66-4519-8e3a-2eaa8995b259",
        "colab": {
          "base_uri": "https://localhost:8080/",
          "height": 134
        }
      },
      "source": [
        "train_labels"
      ],
      "execution_count": null,
      "outputs": [
        {
          "output_type": "execute_result",
          "data": {
            "text/plain": [
              "array([[0., 0., 0., ..., 0., 0., 0.],\n",
              "       [1., 0., 0., ..., 0., 0., 0.],\n",
              "       [0., 0., 0., ..., 0., 0., 0.],\n",
              "       ...,\n",
              "       [0., 0., 0., ..., 0., 0., 0.],\n",
              "       [0., 0., 0., ..., 0., 0., 0.],\n",
              "       [0., 0., 0., ..., 0., 1., 0.]], dtype=float32)"
            ]
          },
          "metadata": {
            "tags": []
          },
          "execution_count": 134
        }
      ]
    },
    {
      "cell_type": "markdown",
      "metadata": {
        "id": "Xpyr2mXIcu0T"
      },
      "source": [
        "## Train the Model\n"
      ]
    },
    {
      "cell_type": "code",
      "metadata": {
        "id": "tcSS2HUocH0E",
        "outputId": "3cab6b5f-1112-4a53-ce6e-bcf8a4f8344c",
        "colab": {
          "base_uri": "https://localhost:8080/",
          "height": 706
        }
      },
      "source": [
        "network.fit(train_images, train_labels, epochs = 20, batch_size=128)"
      ],
      "execution_count": null,
      "outputs": [
        {
          "output_type": "stream",
          "text": [
            "Epoch 1/20\n",
            "60000/60000 [==============================] - 1s 23us/step - loss: 0.4780 - acc: 0.8734\n",
            "Epoch 2/20\n",
            "60000/60000 [==============================] - 1s 19us/step - loss: 0.2455 - acc: 0.9299\n",
            "Epoch 3/20\n",
            "60000/60000 [==============================] - 1s 20us/step - loss: 0.2031 - acc: 0.9419\n",
            "Epoch 4/20\n",
            "60000/60000 [==============================] - 1s 20us/step - loss: 0.1766 - acc: 0.9491\n",
            "Epoch 5/20\n",
            "60000/60000 [==============================] - 1s 20us/step - loss: 0.1581 - acc: 0.9554\n",
            "Epoch 6/20\n",
            "60000/60000 [==============================] - 1s 20us/step - loss: 0.1438 - acc: 0.9583\n",
            "Epoch 7/20\n",
            "60000/60000 [==============================] - 1s 19us/step - loss: 0.1324 - acc: 0.9619\n",
            "Epoch 8/20\n",
            "60000/60000 [==============================] - 1s 20us/step - loss: 0.1230 - acc: 0.9642\n",
            "Epoch 9/20\n",
            "60000/60000 [==============================] - 1s 19us/step - loss: 0.1140 - acc: 0.9675\n",
            "Epoch 10/20\n",
            "60000/60000 [==============================] - 1s 18us/step - loss: 0.1081 - acc: 0.9687\n",
            "Epoch 11/20\n",
            "60000/60000 [==============================] - 1s 19us/step - loss: 0.1015 - acc: 0.9708\n",
            "Epoch 12/20\n",
            "60000/60000 [==============================] - 1s 19us/step - loss: 0.0958 - acc: 0.9723\n",
            "Epoch 13/20\n",
            "60000/60000 [==============================] - 1s 19us/step - loss: 0.0915 - acc: 0.9734\n",
            "Epoch 14/20\n",
            "60000/60000 [==============================] - 1s 19us/step - loss: 0.0875 - acc: 0.9739\n",
            "Epoch 15/20\n",
            "60000/60000 [==============================] - 1s 19us/step - loss: 0.0837 - acc: 0.9756\n",
            "Epoch 16/20\n",
            "60000/60000 [==============================] - 1s 18us/step - loss: 0.0808 - acc: 0.9765\n",
            "Epoch 17/20\n",
            "60000/60000 [==============================] - 1s 19us/step - loss: 0.0778 - acc: 0.9775\n",
            "Epoch 18/20\n",
            "60000/60000 [==============================] - 1s 19us/step - loss: 0.0745 - acc: 0.9779\n",
            "Epoch 19/20\n",
            "60000/60000 [==============================] - 1s 19us/step - loss: 0.0722 - acc: 0.9790\n",
            "Epoch 20/20\n",
            "60000/60000 [==============================] - 1s 19us/step - loss: 0.0696 - acc: 0.9802\n"
          ],
          "name": "stdout"
        },
        {
          "output_type": "execute_result",
          "data": {
            "text/plain": [
              "<keras.callbacks.History at 0x7fe8b229a400>"
            ]
          },
          "metadata": {
            "tags": []
          },
          "execution_count": 135
        }
      ]
    },
    {
      "cell_type": "code",
      "metadata": {
        "id": "hlrjkC-ygaB6",
        "outputId": "f3823028-ead9-4bc7-ac60-3aa8bf881331",
        "colab": {
          "base_uri": "https://localhost:8080/",
          "height": 689
        }
      },
      "source": [
        "network.history.history"
      ],
      "execution_count": null,
      "outputs": [
        {
          "output_type": "execute_result",
          "data": {
            "text/plain": [
              "{'acc': [0.8734000000317892,\n",
              "  0.9299166666348775,\n",
              "  0.9419166666666666,\n",
              "  0.9491166666984558,\n",
              "  0.9553833333015442,\n",
              "  0.9583333333651225,\n",
              "  0.9619333333651224,\n",
              "  0.9641500000317892,\n",
              "  0.9675499999682109,\n",
              "  0.9686833333015442,\n",
              "  0.9708333333015442,\n",
              "  0.9722833333333334,\n",
              "  0.9734166666984558,\n",
              "  0.9739166666666667,\n",
              "  0.9756333333015442,\n",
              "  0.9765166666666667,\n",
              "  0.9775333333015442,\n",
              "  0.9778666666348775,\n",
              "  0.9789999999682109,\n",
              "  0.9801833333333333],\n",
              " 'loss': [0.47796541713873547,\n",
              "  0.24547595111529033,\n",
              "  0.20306635077794394,\n",
              "  0.17662713221708934,\n",
              "  0.1580907028913498,\n",
              "  0.1437577981074651,\n",
              "  0.13241404301722845,\n",
              "  0.12301819589535395,\n",
              "  0.11395997623999914,\n",
              "  0.10808207399050394,\n",
              "  0.10148853307763736,\n",
              "  0.09583918833136558,\n",
              "  0.0914558375318845,\n",
              "  0.08745317473212878,\n",
              "  0.08368225978215535,\n",
              "  0.08082685696880022,\n",
              "  0.07783046171069145,\n",
              "  0.07446781676014265,\n",
              "  0.07224911052982012,\n",
              "  0.06963078790108362]}"
            ]
          },
          "metadata": {
            "tags": []
          },
          "execution_count": 136
        }
      ]
    },
    {
      "cell_type": "code",
      "metadata": {
        "id": "QFcD-ksWdv-3",
        "outputId": "dc2a9ce3-89e7-4b8c-b990-3df1504199e9",
        "colab": {
          "base_uri": "https://localhost:8080/",
          "height": 34
        }
      },
      "source": [
        "## Overfitting?\n",
        "\n",
        "test_loss, test_acc = network.evaluate(x = test_images, y = test_labels)"
      ],
      "execution_count": null,
      "outputs": [
        {
          "output_type": "stream",
          "text": [
            "10000/10000 [==============================] - 0s 29us/step\n"
          ],
          "name": "stdout"
        }
      ]
    },
    {
      "cell_type": "code",
      "metadata": {
        "id": "4MhoBhaLe7jn",
        "outputId": "66f45991-fca3-41d3-ff50-86971cebc016",
        "colab": {
          "base_uri": "https://localhost:8080/",
          "height": 34
        }
      },
      "source": [
        "print('test_acc:', test_acc)"
      ],
      "execution_count": null,
      "outputs": [
        {
          "output_type": "stream",
          "text": [
            "test_acc: 0.9658\n"
          ],
          "name": "stdout"
        }
      ]
    },
    {
      "cell_type": "code",
      "metadata": {
        "id": "0llVhGlSjuPq"
      },
      "source": [],
      "execution_count": null,
      "outputs": []
    }
  ]
}