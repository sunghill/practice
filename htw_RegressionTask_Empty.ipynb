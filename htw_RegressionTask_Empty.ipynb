{
  "nbformat": 4,
  "nbformat_minor": 0,
  "metadata": {
    "colab": {
      "provenance": []
    },
    "kernelspec": {
      "name": "python3",
      "display_name": "Python 3"
    }
  },
  "cells": [
    {
      "cell_type": "markdown",
      "metadata": {
        "id": "1lbH0HbVHBzC"
      },
      "source": [
        "# Regression Task in Deep Learning\n",
        "\n",
        "Example: Predicting House Prices\n",
        "\n",
        "Another common type of machine learning problem is \"regression\", which consists of predicting a continuous value instead of a discrete label. For instance, predicting the temperature tomorrow, given meteorological data, or predicting the time that a software project will take to complete, given its specifications."
      ]
    },
    {
      "cell_type": "code",
      "metadata": {
        "id": "4Fsl5WaFG6jq"
      },
      "source": [
        "# Import Modules\n",
        "import keras\n",
        "# Load the data: Boston Housing Price\n",
        "from keras.datasets import boston_housing\n",
        "# Modeling\n",
        "from keras import models\n",
        "from keras import layers\n",
        "# Validation\n",
        "from keras import backend as K\n",
        "# NumPy\n",
        "import numpy as np\n",
        "# Plot\n",
        "import matplotlib.pyplot as plt\n"
      ],
      "execution_count": null,
      "outputs": []
    },
    {
      "cell_type": "code",
      "metadata": {
        "id": "okvJdbIiHUuF",
        "outputId": "aa48a59a-cd1e-454f-9137-b6b2969def3a",
        "colab": {
          "base_uri": "https://localhost:8080/",
          "height": 34
        }
      },
      "source": [
        "# Check Keras version\n",
        "keras.__version__"
      ],
      "execution_count": null,
      "outputs": [
        {
          "output_type": "execute_result",
          "data": {
            "text/plain": [
              "'2.2.5'"
            ]
          },
          "metadata": {
            "tags": []
          },
          "execution_count": 2
        }
      ]
    },
    {
      "cell_type": "markdown",
      "metadata": {
        "id": "th5H_71sHY32"
      },
      "source": [
        "## The Boston Housing Price Dataset\n",
        "\n",
        "We will be attempting to predict the median price of homes in a given Boston suburb in the mid-1970s, given a few data points about the suburb at the time, such as the crime rate, the local property tax rate, etc.\n",
        "\n",
        "The dataset we will be using has another interesting difference from our two previous examples: it has very few data points, only 506 in total, split between 404 training samples and 102 test samples, and each \"feature\" in the input data (e.g. the crime rate is a feature) has a different scale. For instance some values are proportions, which take a values between 0 and 1, others take values between 1 and 12, others between 0 and 100..."
      ]
    },
    {
      "cell_type": "code",
      "metadata": {
        "id": "x9JDmfT0HW64",
        "colab": {
          "base_uri": "https://localhost:8080/",
          "height": 34
        },
        "outputId": "b0045a7c-110c-47eb-f51f-bc684bb38f2e"
      },
      "source": [
        "# Load the data\n",
        "#from keras.datasets import boston_housing\n",
        "\n",
        "(train_data, train_targets), (test_data, test_targets) =  boston_housing.load_data()"
      ],
      "execution_count": null,
      "outputs": [
        {
          "output_type": "stream",
          "text": [
            "<module 'keras.datasets.boston_housing' from '/usr/local/lib/python3.6/dist-packages/keras/datasets/boston_housing.py'>\n"
          ],
          "name": "stdout"
        }
      ]
    },
    {
      "cell_type": "code",
      "metadata": {
        "id": "4ISCGQ7THq4m",
        "outputId": "999fbfec-775d-4227-ead4-2fbb4109cce0",
        "colab": {
          "base_uri": "https://localhost:8080/",
          "height": 34
        }
      },
      "source": [
        "train_data.shape"
      ],
      "execution_count": null,
      "outputs": [
        {
          "output_type": "execute_result",
          "data": {
            "text/plain": [
              "(404, 13)"
            ]
          },
          "metadata": {
            "tags": []
          },
          "execution_count": 34
        }
      ]
    },
    {
      "cell_type": "code",
      "metadata": {
        "id": "X8V_HWnUHteJ",
        "outputId": "9e596089-db30-4d5e-c3d7-b26e8ef13656",
        "colab": {
          "base_uri": "https://localhost:8080/",
          "height": 34
        }
      },
      "source": [
        "test_data.shape"
      ],
      "execution_count": null,
      "outputs": [
        {
          "output_type": "execute_result",
          "data": {
            "text/plain": [
              "(102, 13)"
            ]
          },
          "metadata": {
            "tags": []
          },
          "execution_count": 35
        }
      ]
    },
    {
      "cell_type": "markdown",
      "metadata": {
        "id": "yp52IwlNHx-R"
      },
      "source": [
        "At all, 404 training samples and 102 test samples. The data comprises 13 features. The 13 features in the input data are as follow:\n",
        "\n",
        "- Per capita crime rate.\n",
        "- Proportion of residential land zoned for lots over 25,000 square feet.\n",
        "- Proportion of non-retail business acres per town.\n",
        "- Charles River dummy variable (= 1 if tract bounds river; 0 otherwise).\n",
        "- Nitric oxides concentration (parts per 10 million).\n",
        "- Average number of rooms per dwelling.\n",
        "- Proportion of owner-occupied units built prior to 1940.\n",
        "- Weighted distances to five Boston employment centres.\n",
        "- Index of accessibility to radial highways.\n",
        "- Full-value property-tax rate per $10,000.\n",
        "- Pupil-teacher ratio by town.\n",
        "- 1000 * (Bk - 0.63) ** 2 where Bk is the proportion of Black people by town.\n",
        "- % lower status of the population.\n",
        "\n",
        "The targets are the median values of owner-occupied homes, in thousands of dollars:\n"
      ]
    },
    {
      "cell_type": "code",
      "metadata": {
        "id": "NZf8FmeHHvmk",
        "outputId": "1adae01e-5034-4521-f577-f53be5ae578c",
        "colab": {
          "base_uri": "https://localhost:8080/",
          "height": 34
        }
      },
      "source": [
        "# Inspect target\n",
        "train_targets[0:10]"
      ],
      "execution_count": null,
      "outputs": [
        {
          "output_type": "execute_result",
          "data": {
            "text/plain": [
              "array([15.2, 42.3, 50. , 21.1, 17.7, 18.5, 11.3, 15.6, 15.6, 14.4])"
            ]
          },
          "metadata": {
            "tags": []
          },
          "execution_count": 36
        }
      ]
    },
    {
      "cell_type": "markdown",
      "metadata": {
        "id": "qJegCl7RIKkN"
      },
      "source": [
        "The prices are typically between \\$10,000 and \\$50,000. If that sounds cheap, remember this was the mid-1970s, and these prices are not inflation-adjusted."
      ]
    },
    {
      "cell_type": "markdown",
      "metadata": {
        "id": "fXxHFSv0wXi6"
      },
      "source": [
        "## Prepare the data\n",
        "Range of all variables should be equal-model then trains faster!"
      ]
    },
    {
      "cell_type": "code",
      "metadata": {
        "id": "pQe63NSRv-OF"
      },
      "source": [
        "#First we have to get the mean and sd of the training data\n",
        "mean = train_data.mean(axis = 0)\n",
        "sd = train_data.std(axis=0)"
      ],
      "execution_count": null,
      "outputs": []
    },
    {
      "cell_type": "code",
      "metadata": {
        "id": "8751t7vQKYfZ"
      },
      "source": [
        "#Transformation (Z-transformation)\n",
        "\n",
        "train_data -= mean # -= subtract the mean from every value in a column\n",
        "\n",
        "train_data /= sd"
      ],
      "execution_count": null,
      "outputs": []
    },
    {
      "cell_type": "code",
      "metadata": {
        "id": "taQUoDffwvWQ",
        "outputId": "53bff30a-fffc-48c7-9152-6caf707264f6",
        "colab": {
          "base_uri": "https://localhost:8080/",
          "height": 34
        }
      },
      "source": [
        "# Validate results:\n",
        "train_data.std(axis=0)"
      ],
      "execution_count": null,
      "outputs": [
        {
          "output_type": "execute_result",
          "data": {
            "text/plain": [
              "array([1., 1., 1., 1., 1., 1., 1., 1., 1., 1., 1., 1., 1.])"
            ]
          },
          "metadata": {
            "tags": []
          },
          "execution_count": 39
        }
      ]
    },
    {
      "cell_type": "code",
      "metadata": {
        "id": "pPsiR6W-yeWa"
      },
      "source": [
        "#Transformation (Z-transformation)\n",
        "\n",
        "test_data -= mean # -= subtract the mean from every value in a column\n",
        "\n",
        "test_data /= sd"
      ],
      "execution_count": null,
      "outputs": []
    },
    {
      "cell_type": "markdown",
      "metadata": {
        "id": "r14XIgwGyq7i"
      },
      "source": [
        "## Build Network\n",
        "\n",
        "activation: 'relu' only\n",
        "\n",
        "input_shape = (train_data.shape[1],)"
      ]
    },
    {
      "cell_type": "code",
      "metadata": {
        "id": "Y98RcSrhypRg",
        "outputId": "81611383-91ac-4b75-da35-4236cf07083a",
        "colab": {
          "base_uri": "https://localhost:8080/",
          "height": 104
        }
      },
      "source": [
        "network = models.Sequential()\n",
        "network.add(layers.Dense(64, activation='relu', input_shape = (13,)))\n",
        "network.add(layers.Dense(1))"
      ],
      "execution_count": null,
      "outputs": [
        {
          "output_type": "stream",
          "text": [
            "WARNING:tensorflow:From /usr/local/lib/python3.6/dist-packages/keras/backend/tensorflow_backend.py:541: The name tf.placeholder is deprecated. Please use tf.compat.v1.placeholder instead.\n",
            "\n",
            "WARNING:tensorflow:From /usr/local/lib/python3.6/dist-packages/keras/backend/tensorflow_backend.py:4432: The name tf.random_uniform is deprecated. Please use tf.random.uniform instead.\n",
            "\n"
          ],
          "name": "stdout"
        }
      ]
    },
    {
      "cell_type": "code",
      "metadata": {
        "id": "HKeDKGjxyGlS",
        "outputId": "7935fdcb-6e64-4fb7-95ed-8a8a8c09708f",
        "colab": {
          "base_uri": "https://localhost:8080/",
          "height": 218
        }
      },
      "source": [
        "## Summary of network\n",
        "network.summary()"
      ],
      "execution_count": null,
      "outputs": [
        {
          "output_type": "stream",
          "text": [
            "Model: \"sequential_5\"\n",
            "_________________________________________________________________\n",
            "Layer (type)                 Output Shape              Param #   \n",
            "=================================================================\n",
            "dense_5 (Dense)              (None, 64)                896       \n",
            "_________________________________________________________________\n",
            "dense_6 (Dense)              (None, 1)                 65        \n",
            "=================================================================\n",
            "Total params: 961\n",
            "Trainable params: 961\n",
            "Non-trainable params: 0\n",
            "_________________________________________________________________\n"
          ],
          "name": "stdout"
        }
      ]
    },
    {
      "cell_type": "markdown",
      "metadata": {
        "id": "_xxdJd_x1tMz"
      },
      "source": [
        "### Initialization - Part 2\n",
        "- Loss-function: `mse` #Mean Squared Error\n",
        "- optimizer: `rmsprop`\n",
        "- Metrics: `mae` #Mean Average Error"
      ]
    },
    {
      "cell_type": "code",
      "metadata": {
        "id": "NessT84W1Nkw"
      },
      "source": [
        "network.compile(optimizer='rmsprop', loss='mse',metrics=['mape', 'mae'])"
      ],
      "execution_count": null,
      "outputs": []
    },
    {
      "cell_type": "code",
      "metadata": {
        "id": "QA9VOXtf2cze",
        "outputId": "02a6f04b-4f69-4a9d-b4c8-c4f48c3e9b8b",
        "colab": {
          "base_uri": "https://localhost:8080/",
          "height": 1000
        }
      },
      "source": [
        "network.fit(train_data, train_targets,epochs=40)"
      ],
      "execution_count": null,
      "outputs": [
        {
          "output_type": "stream",
          "text": [
            "Epoch 1/40\n",
            "404/404 [==============================] - 0s 411us/step - loss: 13.7509 - mean_absolute_percentage_error: 13.2228 - mean_absolute_error: 2.6028\n",
            "Epoch 2/40\n",
            "404/404 [==============================] - 0s 43us/step - loss: 13.4502 - mean_absolute_percentage_error: 12.7227 - mean_absolute_error: 2.5469\n",
            "Epoch 3/40\n",
            "404/404 [==============================] - 0s 45us/step - loss: 13.2123 - mean_absolute_percentage_error: 12.6645 - mean_absolute_error: 2.5348\n",
            "Epoch 4/40\n",
            "404/404 [==============================] - 0s 45us/step - loss: 12.9581 - mean_absolute_percentage_error: 12.4402 - mean_absolute_error: 2.4949\n",
            "Epoch 5/40\n",
            "404/404 [==============================] - 0s 52us/step - loss: 12.7730 - mean_absolute_percentage_error: 12.4243 - mean_absolute_error: 2.4860\n",
            "Epoch 6/40\n",
            "404/404 [==============================] - 0s 46us/step - loss: 12.6015 - mean_absolute_percentage_error: 12.4165 - mean_absolute_error: 2.4693\n",
            "Epoch 7/40\n",
            "404/404 [==============================] - 0s 52us/step - loss: 12.3902 - mean_absolute_percentage_error: 12.3742 - mean_absolute_error: 2.4524\n",
            "Epoch 8/40\n",
            "404/404 [==============================] - 0s 47us/step - loss: 12.2212 - mean_absolute_percentage_error: 12.2400 - mean_absolute_error: 2.4373\n",
            "Epoch 9/40\n",
            "404/404 [==============================] - 0s 58us/step - loss: 12.0594 - mean_absolute_percentage_error: 11.9394 - mean_absolute_error: 2.3986\n",
            "Epoch 10/40\n",
            "404/404 [==============================] - 0s 42us/step - loss: 11.8973 - mean_absolute_percentage_error: 11.8957 - mean_absolute_error: 2.3944\n",
            "Epoch 11/40\n",
            "404/404 [==============================] - 0s 54us/step - loss: 11.7169 - mean_absolute_percentage_error: 11.8602 - mean_absolute_error: 2.3740\n",
            "Epoch 12/40\n",
            "404/404 [==============================] - 0s 49us/step - loss: 11.5596 - mean_absolute_percentage_error: 11.8254 - mean_absolute_error: 2.3652\n",
            "Epoch 13/40\n",
            "404/404 [==============================] - 0s 50us/step - loss: 11.4059 - mean_absolute_percentage_error: 11.6679 - mean_absolute_error: 2.3400\n",
            "Epoch 14/40\n",
            "404/404 [==============================] - 0s 55us/step - loss: 11.3037 - mean_absolute_percentage_error: 11.6662 - mean_absolute_error: 2.3322\n",
            "Epoch 15/40\n",
            "404/404 [==============================] - 0s 39us/step - loss: 11.1372 - mean_absolute_percentage_error: 11.4638 - mean_absolute_error: 2.3096\n",
            "Epoch 16/40\n",
            "404/404 [==============================] - 0s 40us/step - loss: 10.9970 - mean_absolute_percentage_error: 11.4306 - mean_absolute_error: 2.2998\n",
            "Epoch 17/40\n",
            "404/404 [==============================] - 0s 50us/step - loss: 10.8957 - mean_absolute_percentage_error: 11.4989 - mean_absolute_error: 2.3012\n",
            "Epoch 18/40\n",
            "404/404 [==============================] - 0s 45us/step - loss: 10.7545 - mean_absolute_percentage_error: 11.1937 - mean_absolute_error: 2.2667\n",
            "Epoch 19/40\n",
            "404/404 [==============================] - 0s 45us/step - loss: 10.6812 - mean_absolute_percentage_error: 11.3767 - mean_absolute_error: 2.2771\n",
            "Epoch 20/40\n",
            "404/404 [==============================] - 0s 41us/step - loss: 10.5499 - mean_absolute_percentage_error: 11.3165 - mean_absolute_error: 2.2616\n",
            "Epoch 21/40\n",
            "404/404 [==============================] - 0s 40us/step - loss: 10.4945 - mean_absolute_percentage_error: 11.1378 - mean_absolute_error: 2.2461\n",
            "Epoch 22/40\n",
            "404/404 [==============================] - 0s 41us/step - loss: 10.3904 - mean_absolute_percentage_error: 11.1455 - mean_absolute_error: 2.2462\n",
            "Epoch 23/40\n",
            "404/404 [==============================] - 0s 43us/step - loss: 10.3034 - mean_absolute_percentage_error: 11.2483 - mean_absolute_error: 2.2439\n",
            "Epoch 24/40\n",
            "404/404 [==============================] - 0s 47us/step - loss: 10.2752 - mean_absolute_percentage_error: 11.0835 - mean_absolute_error: 2.2316\n",
            "Epoch 25/40\n",
            "404/404 [==============================] - 0s 40us/step - loss: 10.1585 - mean_absolute_percentage_error: 11.0382 - mean_absolute_error: 2.2151\n",
            "Epoch 26/40\n",
            "404/404 [==============================] - 0s 48us/step - loss: 10.0680 - mean_absolute_percentage_error: 11.0311 - mean_absolute_error: 2.2139\n",
            "Epoch 27/40\n",
            "404/404 [==============================] - 0s 45us/step - loss: 9.9985 - mean_absolute_percentage_error: 11.0168 - mean_absolute_error: 2.2055\n",
            "Epoch 28/40\n",
            "404/404 [==============================] - 0s 47us/step - loss: 9.9179 - mean_absolute_percentage_error: 10.7976 - mean_absolute_error: 2.1818\n",
            "Epoch 29/40\n",
            "404/404 [==============================] - 0s 42us/step - loss: 9.9010 - mean_absolute_percentage_error: 10.9318 - mean_absolute_error: 2.1891\n",
            "Epoch 30/40\n",
            "404/404 [==============================] - 0s 41us/step - loss: 9.7710 - mean_absolute_percentage_error: 10.7824 - mean_absolute_error: 2.1724\n",
            "Epoch 31/40\n",
            "404/404 [==============================] - 0s 55us/step - loss: 9.7257 - mean_absolute_percentage_error: 10.7922 - mean_absolute_error: 2.1749\n",
            "Epoch 32/40\n",
            "404/404 [==============================] - 0s 54us/step - loss: 9.6586 - mean_absolute_percentage_error: 10.9509 - mean_absolute_error: 2.1757\n",
            "Epoch 33/40\n",
            "404/404 [==============================] - 0s 56us/step - loss: 9.6168 - mean_absolute_percentage_error: 10.7411 - mean_absolute_error: 2.1597\n",
            "Epoch 34/40\n",
            "404/404 [==============================] - 0s 53us/step - loss: 9.6157 - mean_absolute_percentage_error: 10.7390 - mean_absolute_error: 2.1569\n",
            "Epoch 35/40\n",
            "404/404 [==============================] - 0s 60us/step - loss: 9.5223 - mean_absolute_percentage_error: 10.6968 - mean_absolute_error: 2.1459\n",
            "Epoch 36/40\n",
            "404/404 [==============================] - 0s 44us/step - loss: 9.4542 - mean_absolute_percentage_error: 10.6635 - mean_absolute_error: 2.1416\n",
            "Epoch 37/40\n",
            "404/404 [==============================] - 0s 45us/step - loss: 9.3834 - mean_absolute_percentage_error: 10.6307 - mean_absolute_error: 2.1333\n",
            "Epoch 38/40\n",
            "404/404 [==============================] - 0s 48us/step - loss: 9.3631 - mean_absolute_percentage_error: 10.6422 - mean_absolute_error: 2.1358\n",
            "Epoch 39/40\n",
            "404/404 [==============================] - 0s 44us/step - loss: 9.2874 - mean_absolute_percentage_error: 10.5119 - mean_absolute_error: 2.1154\n",
            "Epoch 40/40\n",
            "404/404 [==============================] - 0s 49us/step - loss: 9.2050 - mean_absolute_percentage_error: 10.7037 - mean_absolute_error: 2.1251\n"
          ],
          "name": "stdout"
        },
        {
          "output_type": "execute_result",
          "data": {
            "text/plain": [
              "<keras.callbacks.History at 0x7f02ff82b390>"
            ]
          },
          "metadata": {
            "tags": []
          },
          "execution_count": 58
        }
      ]
    },
    {
      "cell_type": "code",
      "metadata": {
        "id": "l0p2QoCF225S",
        "outputId": "72c87479-4bd1-400f-9819-097d2b031557",
        "colab": {
          "base_uri": "https://localhost:8080/",
          "height": 34
        }
      },
      "source": [
        "test_loss, test_mape, test_mae = network.evaluate(x=test_data, y=test_targets)"
      ],
      "execution_count": null,
      "outputs": [
        {
          "output_type": "stream",
          "text": [
            "102/102 [==============================] - 0s 706us/step\n"
          ],
          "name": "stdout"
        }
      ]
    },
    {
      "cell_type": "code",
      "metadata": {
        "id": "jtrgbGp76dqn",
        "outputId": "f6dc7e0b-a60d-49c8-aa5b-4aeb665fe254",
        "colab": {
          "base_uri": "https://localhost:8080/",
          "height": 34
        }
      },
      "source": [
        "print(\"MAPE:\", test_mape)"
      ],
      "execution_count": null,
      "outputs": [
        {
          "output_type": "stream",
          "text": [
            "MAPE: 14.785228691849055\n"
          ],
          "name": "stdout"
        }
      ]
    },
    {
      "cell_type": "code",
      "metadata": {
        "id": "XyDvno8E6jL2"
      },
      "source": [
        "plo"
      ],
      "execution_count": null,
      "outputs": []
    }
  ]
}