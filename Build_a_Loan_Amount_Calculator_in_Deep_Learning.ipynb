{
  "nbformat": 4,
  "nbformat_minor": 0,
  "metadata": {
    "colab": {
      "provenance": []
    },
    "kernelspec": {
      "name": "python3",
      "display_name": "Python 3"
    }
  },
  "cells": [
    {
      "cell_type": "markdown",
      "metadata": {
        "id": "1lbH0HbVHBzC"
      },
      "source": [
        "# Regression Task in Deep Learning\n",
        "\n",
        "Case Study: Loan Amount Calculator\n",
        "\n",
        "Another common type of machine learning problem is \"regression\", which consists of predicting a continuous value instead of a discrete label. For instance, predicting the temperature tomorrow, given meteorological data, or predicting the time that a software project will take to complete, given its specifications."
      ]
    },
    {
      "cell_type": "markdown",
      "metadata": {
        "id": "_svh5SNGXayY"
      },
      "source": [
        "We import all the required libraries"
      ]
    },
    {
      "cell_type": "code",
      "metadata": {
        "id": "4Fsl5WaFG6jq"
      },
      "source": [
        "# Import Modules\n",
        "import os\n",
        "#import pandas\n",
        "import pandas as pd\n",
        "import keras\n",
        "# Modeling\n",
        "from keras import models\n",
        "from keras import layers\n",
        "# Validation\n",
        "from keras import backend as K\n",
        "# NumPy\n",
        "import numpy as np\n",
        "# Plot\n",
        "import matplotlib.pyplot as plt"
      ],
      "execution_count": null,
      "outputs": []
    },
    {
      "cell_type": "code",
      "metadata": {
        "id": "okvJdbIiHUuF",
        "outputId": "d70e217f-69a0-4e70-b98c-2e4c354d8974",
        "colab": {
          "base_uri": "https://localhost:8080/",
          "height": 34
        }
      },
      "source": [
        "# Check Keras version\n",
        "keras.__version__"
      ],
      "execution_count": null,
      "outputs": [
        {
          "output_type": "execute_result",
          "data": {
            "text/plain": [
              "'2.2.5'"
            ]
          },
          "metadata": {
            "tags": []
          },
          "execution_count": 30
        }
      ]
    },
    {
      "cell_type": "markdown",
      "metadata": {
        "id": "th5H_71sHY32"
      },
      "source": [
        "## Build a Loan Amount Calculator using Multiple Linear Regression Dataset\n",
        "\n",
        "The company wants to predict potential interest rate of a loan based on the amount of loan, income, purpose and other variables. Your job is to set up a model to look for possible influences on interest rate (variable int_rate) and to set up a multiple linear regression to predict it.\n"
      ]
    },
    {
      "cell_type": "markdown",
      "metadata": {
        "id": "jBOGsLMiXk7M"
      },
      "source": [
        "### Data Understanding"
      ]
    },
    {
      "cell_type": "code",
      "metadata": {
        "id": "x9JDmfT0HW64",
        "outputId": "8f07cada-7a10-4471-f1df-69592cc1cfd2",
        "colab": {
          "base_uri": "https://localhost:8080/",
          "height": 204
        }
      },
      "source": [
        "# Load the data\n",
        "\n",
        "LoanStats = pd.read_csv('LoanStats.csv', sep = ',')\n",
        "\n",
        "LoanStats.head()"
      ],
      "execution_count": null,
      "outputs": [
        {
          "output_type": "execute_result",
          "data": {
            "text/html": [
              "<div>\n",
              "<style scoped>\n",
              "    .dataframe tbody tr th:only-of-type {\n",
              "        vertical-align: middle;\n",
              "    }\n",
              "\n",
              "    .dataframe tbody tr th {\n",
              "        vertical-align: top;\n",
              "    }\n",
              "\n",
              "    .dataframe thead th {\n",
              "        text-align: right;\n",
              "    }\n",
              "</style>\n",
              "<table border=\"1\" class=\"dataframe\">\n",
              "  <thead>\n",
              "    <tr style=\"text-align: right;\">\n",
              "      <th></th>\n",
              "      <th>int_rate</th>\n",
              "      <th>loan_amnt</th>\n",
              "      <th>term</th>\n",
              "      <th>grade</th>\n",
              "      <th>home_ownership</th>\n",
              "      <th>annual_inc</th>\n",
              "      <th>purpose</th>\n",
              "    </tr>\n",
              "  </thead>\n",
              "  <tbody>\n",
              "    <tr>\n",
              "      <th>0</th>\n",
              "      <td>10.65</td>\n",
              "      <td>5000</td>\n",
              "      <td>36</td>\n",
              "      <td>B</td>\n",
              "      <td>RENT</td>\n",
              "      <td>24000.0</td>\n",
              "      <td>credit_card</td>\n",
              "    </tr>\n",
              "    <tr>\n",
              "      <th>1</th>\n",
              "      <td>15.27</td>\n",
              "      <td>2500</td>\n",
              "      <td>60</td>\n",
              "      <td>C</td>\n",
              "      <td>RENT</td>\n",
              "      <td>30000.0</td>\n",
              "      <td>car</td>\n",
              "    </tr>\n",
              "    <tr>\n",
              "      <th>2</th>\n",
              "      <td>15.96</td>\n",
              "      <td>2400</td>\n",
              "      <td>36</td>\n",
              "      <td>C</td>\n",
              "      <td>RENT</td>\n",
              "      <td>12252.0</td>\n",
              "      <td>small_business</td>\n",
              "    </tr>\n",
              "    <tr>\n",
              "      <th>3</th>\n",
              "      <td>13.49</td>\n",
              "      <td>10000</td>\n",
              "      <td>36</td>\n",
              "      <td>C</td>\n",
              "      <td>RENT</td>\n",
              "      <td>49200.0</td>\n",
              "      <td>other</td>\n",
              "    </tr>\n",
              "    <tr>\n",
              "      <th>4</th>\n",
              "      <td>12.69</td>\n",
              "      <td>3000</td>\n",
              "      <td>60</td>\n",
              "      <td>B</td>\n",
              "      <td>RENT</td>\n",
              "      <td>80000.0</td>\n",
              "      <td>other</td>\n",
              "    </tr>\n",
              "  </tbody>\n",
              "</table>\n",
              "</div>"
            ],
            "text/plain": [
              "   int_rate  loan_amnt  term grade home_ownership  annual_inc         purpose\n",
              "0     10.65       5000    36     B           RENT     24000.0     credit_card\n",
              "1     15.27       2500    60     C           RENT     30000.0             car\n",
              "2     15.96       2400    36     C           RENT     12252.0  small_business\n",
              "3     13.49      10000    36     C           RENT     49200.0           other\n",
              "4     12.69       3000    60     B           RENT     80000.0           other"
            ]
          },
          "metadata": {
            "tags": []
          },
          "execution_count": 31
        }
      ]
    },
    {
      "cell_type": "code",
      "metadata": {
        "id": "oCucbPOFwZqk"
      },
      "source": [
        "#We drop the columns no longer required\n",
        "LoanStats.drop(columns = ['grade','home_ownership','purpose'], inplace=True)"
      ],
      "execution_count": null,
      "outputs": []
    },
    {
      "cell_type": "code",
      "metadata": {
        "id": "9IBUsaW-nzPN",
        "outputId": "68a2397d-1b94-4d6e-d180-302d8ad2330e",
        "colab": {
          "base_uri": "https://localhost:8080/",
          "height": 102
        }
      },
      "source": [
        "#Check for missing Values\n",
        "LoanStats.isna().sum()"
      ],
      "execution_count": null,
      "outputs": [
        {
          "output_type": "execute_result",
          "data": {
            "text/plain": [
              "int_rate      0\n",
              "loan_amnt     0\n",
              "term          0\n",
              "annual_inc    0\n",
              "dtype: int64"
            ]
          },
          "metadata": {
            "tags": []
          },
          "execution_count": 33
        }
      ]
    },
    {
      "cell_type": "markdown",
      "metadata": {
        "id": "RVoT4a49X1-v"
      },
      "source": [
        "#### Split the data in train and test"
      ]
    },
    {
      "cell_type": "code",
      "metadata": {
        "id": "yME7skxav3SM"
      },
      "source": [
        "train_dataset = LoanStats.sample(frac=0.8,random_state=0)\n",
        "test_dataset = LoanStats.drop(train_dataset.index)"
      ],
      "execution_count": null,
      "outputs": []
    },
    {
      "cell_type": "code",
      "metadata": {
        "id": "4ISCGQ7THq4m",
        "outputId": "de567164-9ec2-4f02-d5e9-585ae6c60029",
        "colab": {
          "base_uri": "https://localhost:8080/",
          "height": 204
        }
      },
      "source": [
        "#Let us inspect test dataset\n",
        "test_dataset.head()"
      ],
      "execution_count": null,
      "outputs": [
        {
          "output_type": "execute_result",
          "data": {
            "text/html": [
              "<div>\n",
              "<style scoped>\n",
              "    .dataframe tbody tr th:only-of-type {\n",
              "        vertical-align: middle;\n",
              "    }\n",
              "\n",
              "    .dataframe tbody tr th {\n",
              "        vertical-align: top;\n",
              "    }\n",
              "\n",
              "    .dataframe thead th {\n",
              "        text-align: right;\n",
              "    }\n",
              "</style>\n",
              "<table border=\"1\" class=\"dataframe\">\n",
              "  <thead>\n",
              "    <tr style=\"text-align: right;\">\n",
              "      <th></th>\n",
              "      <th>int_rate</th>\n",
              "      <th>loan_amnt</th>\n",
              "      <th>term</th>\n",
              "      <th>annual_inc</th>\n",
              "    </tr>\n",
              "  </thead>\n",
              "  <tbody>\n",
              "    <tr>\n",
              "      <th>10</th>\n",
              "      <td>14.65</td>\n",
              "      <td>6500</td>\n",
              "      <td>60</td>\n",
              "      <td>72000.00</td>\n",
              "    </tr>\n",
              "    <tr>\n",
              "      <th>11</th>\n",
              "      <td>12.69</td>\n",
              "      <td>12000</td>\n",
              "      <td>36</td>\n",
              "      <td>75000.00</td>\n",
              "    </tr>\n",
              "    <tr>\n",
              "      <th>13</th>\n",
              "      <td>9.91</td>\n",
              "      <td>3000</td>\n",
              "      <td>36</td>\n",
              "      <td>15000.00</td>\n",
              "    </tr>\n",
              "    <tr>\n",
              "      <th>19</th>\n",
              "      <td>6.03</td>\n",
              "      <td>9200</td>\n",
              "      <td>36</td>\n",
              "      <td>77385.19</td>\n",
              "    </tr>\n",
              "    <tr>\n",
              "      <th>21</th>\n",
              "      <td>12.42</td>\n",
              "      <td>21000</td>\n",
              "      <td>36</td>\n",
              "      <td>105000.00</td>\n",
              "    </tr>\n",
              "  </tbody>\n",
              "</table>\n",
              "</div>"
            ],
            "text/plain": [
              "    int_rate  loan_amnt  term  annual_inc\n",
              "10     14.65       6500    60    72000.00\n",
              "11     12.69      12000    36    75000.00\n",
              "13      9.91       3000    36    15000.00\n",
              "19      6.03       9200    36    77385.19\n",
              "21     12.42      21000    36   105000.00"
            ]
          },
          "metadata": {
            "tags": []
          },
          "execution_count": 35
        }
      ]
    },
    {
      "cell_type": "code",
      "metadata": {
        "id": "X8V_HWnUHteJ",
        "outputId": "d8912cae-43cb-4d6f-9b1f-0dedb8df3908",
        "colab": {
          "base_uri": "https://localhost:8080/",
          "height": 34
        }
      },
      "source": [
        "test_dataset.shape"
      ],
      "execution_count": null,
      "outputs": [
        {
          "output_type": "execute_result",
          "data": {
            "text/plain": [
              "(7957, 4)"
            ]
          },
          "metadata": {
            "tags": []
          },
          "execution_count": 36
        }
      ]
    },
    {
      "cell_type": "code",
      "metadata": {
        "id": "qGhub5S3yq71"
      },
      "source": [
        "#Since we want to predict int_rate we need to label it as target variable\n",
        "train_labels = train_dataset.pop('int_rate')\n",
        "test_labels = test_dataset.pop('int_rate')"
      ],
      "execution_count": null,
      "outputs": []
    },
    {
      "cell_type": "code",
      "metadata": {
        "id": "NZf8FmeHHvmk",
        "outputId": "9d06a170-b7c8-415b-9998-891cd4ac65ca",
        "colab": {
          "base_uri": "https://localhost:8080/",
          "height": 204
        }
      },
      "source": [
        "# Inspect target\n",
        "train_labels[0:10]"
      ],
      "execution_count": null,
      "outputs": [
        {
          "output_type": "execute_result",
          "data": {
            "text/plain": [
              "20260     9.63\n",
              "35519    11.48\n",
              "26446    14.72\n",
              "15586    11.99\n",
              "32646    16.07\n",
              "12288    11.49\n",
              "10196    11.99\n",
              "38396    13.36\n",
              "20432    12.68\n",
              "37497    12.53\n",
              "Name: int_rate, dtype: float64"
            ]
          },
          "metadata": {
            "tags": []
          },
          "execution_count": 38
        }
      ]
    },
    {
      "cell_type": "markdown",
      "metadata": {
        "id": "fXxHFSv0wXi6"
      },
      "source": [
        "## Prepare the data\n",
        "Range of all variables should be equal-model then trains faster!"
      ]
    },
    {
      "cell_type": "code",
      "metadata": {
        "id": "pQe63NSRv-OF"
      },
      "source": [
        "#First we have to get the mean and sd of the training data\n",
        "mean = train_dataset.mean(axis = 0)\n",
        "sd = train_dataset.std(axis=0)"
      ],
      "execution_count": null,
      "outputs": []
    },
    {
      "cell_type": "code",
      "metadata": {
        "id": "8751t7vQKYfZ"
      },
      "source": [
        "#Transformation (Z-transformation)\n",
        "\n",
        "train_dataset -= mean # -= subtract the mean from every value in a column\n",
        "\n",
        "train_dataset /= sd"
      ],
      "execution_count": null,
      "outputs": []
    },
    {
      "cell_type": "code",
      "metadata": {
        "id": "taQUoDffwvWQ",
        "outputId": "5fa0c016-5e4f-4a25-ceb3-0fbc496d9392",
        "colab": {
          "base_uri": "https://localhost:8080/",
          "height": 85
        }
      },
      "source": [
        "# Validate results:\n",
        "train_dataset.std(axis=0)"
      ],
      "execution_count": null,
      "outputs": [
        {
          "output_type": "execute_result",
          "data": {
            "text/plain": [
              "loan_amnt     1.0\n",
              "term          1.0\n",
              "annual_inc    1.0\n",
              "dtype: float64"
            ]
          },
          "metadata": {
            "tags": []
          },
          "execution_count": 42
        }
      ]
    },
    {
      "cell_type": "code",
      "metadata": {
        "id": "pPsiR6W-yeWa"
      },
      "source": [
        "#Transformation (Z-transformation)\n",
        "\n",
        "test_dataset -= mean # -= subtract the mean from every value in a column\n",
        "\n",
        "test_dataset /= sd"
      ],
      "execution_count": null,
      "outputs": []
    },
    {
      "cell_type": "markdown",
      "metadata": {
        "id": "r14XIgwGyq7i"
      },
      "source": [
        "## Build Network\n",
        "\n",
        "activation: 'relu' only\n",
        "Since this exercise is only aimed at usage of CNN and not on the goodness of the model, we are taking basic layers"
      ]
    },
    {
      "cell_type": "code",
      "metadata": {
        "id": "Y98RcSrhypRg"
      },
      "source": [
        "#We need to build the CNN with following parameters\n",
        "\n",
        "network = models.Sequential()\n",
        "network.add(layers.Dense(64, activation='relu', input_shape = (3,)))\n",
        "network.add(layers.Dense(1))"
      ],
      "execution_count": null,
      "outputs": []
    },
    {
      "cell_type": "code",
      "metadata": {
        "id": "HKeDKGjxyGlS",
        "outputId": "081a9a87-5df4-4e3b-afbf-d52da8285157",
        "colab": {
          "base_uri": "https://localhost:8080/",
          "height": 221
        }
      },
      "source": [
        "## Summary of network\n",
        "network.summary()"
      ],
      "execution_count": null,
      "outputs": [
        {
          "output_type": "stream",
          "text": [
            "Model: \"sequential_2\"\n",
            "_________________________________________________________________\n",
            "Layer (type)                 Output Shape              Param #   \n",
            "=================================================================\n",
            "dense_3 (Dense)              (None, 64)                256       \n",
            "_________________________________________________________________\n",
            "dense_4 (Dense)              (None, 1)                 65        \n",
            "=================================================================\n",
            "Total params: 321\n",
            "Trainable params: 321\n",
            "Non-trainable params: 0\n",
            "_________________________________________________________________\n"
          ],
          "name": "stdout"
        }
      ]
    },
    {
      "cell_type": "markdown",
      "metadata": {
        "id": "_xxdJd_x1tMz"
      },
      "source": [
        "### Initialization - Part 2\n",
        "- Loss-function: `mse` #Mean Squared Error\n",
        "- optimizer: `rmsprop`\n",
        "- Metrics: `mae` #Mean Average Error"
      ]
    },
    {
      "cell_type": "code",
      "metadata": {
        "id": "NessT84W1Nkw"
      },
      "source": [
        "network.compile(optimizer='rmsprop', loss='mse',metrics=['mape', 'mae'])"
      ],
      "execution_count": null,
      "outputs": []
    },
    {
      "cell_type": "code",
      "metadata": {
        "id": "QA9VOXtf2cze",
        "outputId": "f3370c5e-4393-4d80-e297-72f59d5a2019",
        "colab": {
          "base_uri": "https://localhost:8080/",
          "height": 666
        }
      },
      "source": [
        "network.fit(train_dataset, train_labels, epochs=10)"
      ],
      "execution_count": null,
      "outputs": [
        {
          "output_type": "stream",
          "text": [
            "WARNING:tensorflow:From /usr/local/lib/python3.6/dist-packages/keras/backend/tensorflow_backend.py:1033: The name tf.assign_add is deprecated. Please use tf.compat.v1.assign_add instead.\n",
            "\n",
            "WARNING:tensorflow:From /usr/local/lib/python3.6/dist-packages/keras/backend/tensorflow_backend.py:1020: The name tf.assign is deprecated. Please use tf.compat.v1.assign instead.\n",
            "\n",
            "WARNING:tensorflow:From /usr/local/lib/python3.6/dist-packages/keras/backend/tensorflow_backend.py:3005: The name tf.Session is deprecated. Please use tf.compat.v1.Session instead.\n",
            "\n",
            "Epoch 1/10\n",
            "WARNING:tensorflow:From /usr/local/lib/python3.6/dist-packages/keras/backend/tensorflow_backend.py:190: The name tf.get_default_session is deprecated. Please use tf.compat.v1.get_default_session instead.\n",
            "\n",
            "WARNING:tensorflow:From /usr/local/lib/python3.6/dist-packages/keras/backend/tensorflow_backend.py:197: The name tf.ConfigProto is deprecated. Please use tf.compat.v1.ConfigProto instead.\n",
            "\n",
            "WARNING:tensorflow:From /usr/local/lib/python3.6/dist-packages/keras/backend/tensorflow_backend.py:207: The name tf.global_variables is deprecated. Please use tf.compat.v1.global_variables instead.\n",
            "\n",
            "WARNING:tensorflow:From /usr/local/lib/python3.6/dist-packages/keras/backend/tensorflow_backend.py:216: The name tf.is_variable_initialized is deprecated. Please use tf.compat.v1.is_variable_initialized instead.\n",
            "\n",
            "WARNING:tensorflow:From /usr/local/lib/python3.6/dist-packages/keras/backend/tensorflow_backend.py:223: The name tf.variables_initializer is deprecated. Please use tf.compat.v1.variables_initializer instead.\n",
            "\n",
            "31829/31829 [==============================] - 2s 48us/step - loss: 37.2391 - mean_absolute_percentage_error: 39.6643 - mean_absolute_error: 4.6579\n",
            "Epoch 2/10\n",
            "31829/31829 [==============================] - 1s 32us/step - loss: 11.0122 - mean_absolute_percentage_error: 26.1927 - mean_absolute_error: 2.7385\n",
            "Epoch 3/10\n",
            "31829/31829 [==============================] - 1s 33us/step - loss: 10.7212 - mean_absolute_percentage_error: 26.1473 - mean_absolute_error: 2.7306\n",
            "Epoch 4/10\n",
            "31829/31829 [==============================] - 1s 32us/step - loss: 10.7246 - mean_absolute_percentage_error: 26.1359 - mean_absolute_error: 2.7288\n",
            "Epoch 5/10\n",
            "31829/31829 [==============================] - 1s 33us/step - loss: 10.6903 - mean_absolute_percentage_error: 26.1096 - mean_absolute_error: 2.7266\n",
            "Epoch 6/10\n",
            "31829/31829 [==============================] - 1s 33us/step - loss: 10.6460 - mean_absolute_percentage_error: 26.0893 - mean_absolute_error: 2.7251\n",
            "Epoch 7/10\n",
            "31829/31829 [==============================] - 1s 33us/step - loss: 10.6102 - mean_absolute_percentage_error: 26.1032 - mean_absolute_error: 2.7239\n",
            "Epoch 8/10\n",
            "31829/31829 [==============================] - 1s 33us/step - loss: 10.6143 - mean_absolute_percentage_error: 26.0766 - mean_absolute_error: 2.7242\n",
            "Epoch 9/10\n",
            "31829/31829 [==============================] - 1s 33us/step - loss: 10.6238 - mean_absolute_percentage_error: 26.0953 - mean_absolute_error: 2.7239\n",
            "Epoch 10/10\n",
            "31829/31829 [==============================] - 1s 32us/step - loss: 10.6006 - mean_absolute_percentage_error: 26.0805 - mean_absolute_error: 2.7226\n"
          ],
          "name": "stdout"
        },
        {
          "output_type": "execute_result",
          "data": {
            "text/plain": [
              "<keras.callbacks.History at 0x7f24043d9c88>"
            ]
          },
          "metadata": {
            "tags": []
          },
          "execution_count": 53
        }
      ]
    },
    {
      "cell_type": "code",
      "metadata": {
        "id": "l0p2QoCF225S",
        "outputId": "b1b2fb13-9f67-420a-aadd-34ab1097ea36",
        "colab": {
          "base_uri": "https://localhost:8080/",
          "height": 34
        }
      },
      "source": [
        "test_mape, test_mae = network.evaluate(x=test_dataset, y=test_labels)"
      ],
      "execution_count": null,
      "outputs": [
        {
          "output_type": "stream",
          "text": [
            "7957/7957 [==============================] - 0s 19us/step\n"
          ],
          "name": "stdout"
        }
      ]
    },
    {
      "cell_type": "code",
      "metadata": {
        "id": "jtrgbGp76dqn",
        "outputId": "9cc511b7-f0c2-47ed-c52f-c9769e88e2b2",
        "colab": {
          "base_uri": "https://localhost:8080/",
          "height": 34
        }
      },
      "source": [
        "print(\"MAPE & MAE:\", test_mape , test_mae)"
      ],
      "execution_count": null,
      "outputs": [
        {
          "output_type": "stream",
          "text": [
            "MAPE & MAE: 152.34189457957493 15.26102464840582\n"
          ],
          "name": "stdout"
        }
      ]
    },
    {
      "cell_type": "markdown",
      "metadata": {
        "id": "HfePATtPZ23o"
      },
      "source": [
        "In the 10th Epoch Mean Absolute percentage error & Mean absolute error for train data is 26.08 & 2.7 respectively\n",
        "\n",
        "While Mean Absolute percentage error & Mean absolute error for test data is 152.34 & 15.26 respectively\n",
        "\n",
        "Given the above values, optmizing layers is advisable for better results."
      ]
    },
    {
      "cell_type": "code",
      "metadata": {
        "id": "97VBYw9qaNIC"
      },
      "source": [],
      "execution_count": null,
      "outputs": []
    }
  ]
}